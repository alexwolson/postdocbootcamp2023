{
 "nbformat": 4,
 "nbformat_minor": 0,
 "metadata": {
  "colab": {
   "provenance": []
  },
  "kernelspec": {
   "name": "python3",
   "language": "python",
   "display_name": "Python 3 (ipykernel)"
  },
  "language_info": {
   "name": "python"
  }
 },
 "cells": [
  {
   "cell_type": "markdown",
   "source": [
    "[![Open In Colab](https://colab.research.google.com/assets/colab-badge.svg)](https://colab.research.google.com/github/alexwolson/postdocbootcamp2023/blob/main/lab_3_1_automl.ipynb)\n",
    "\n",
    "# UofT DSI-CARTE Postdoc Bootcamp\n",
    "#### Thursday, July 20, 2023\n",
    "#### AutoML - Introduction to H2O - Lab 1, Day 3\n",
    "#### Teaching team: Alex Olson, Nakul Upadhya, Shehnaz Islam\n",
    "##### Lab author: Shehnaz Islam, shehnaz.islam@mail.utoronto.ca, edited by Alex Olson"
   ],
   "metadata": {
    "id": "0qhfhPUwbesk"
   }
  },
  {
   "cell_type": "markdown",
   "source": [
    "### Introduction\n",
    "**Automated machine learning (AutoML)** is a fairly young field with the goal to build an automated workflow that could take raw data as input, and produce a prediction automatically. This automated workflow should automatically do preprocessing, model selection, hyperparameter tuning, and all other stages of the ML process.\n",
    "\n",
    "There are different types of AutoML frameworks, each having unique features automating a few steps of a full machine learning workflow, from pre-processing to model development. In this lab we discuss one such framework called **H2O**.\n",
    "\n",
    "### H2O\n",
    "**H2O** is a state of the art, and open-source AutoML framework. The task of H2O is to find the best ML model and its hyperparameter for a dataset among a vast search space, including plenty of classifiers and a lot of hyperparameters. Thus, H2O frees a machine learning user from algorithm selection and hyperparameter tuning by leveraging recent advantages in Bayesian optimization, meta-learning and ensemble construction.\n",
    "\n",
    "### Why AutoML?\n",
    "AutoML can be useful as it has the ability to improve the quality of work for data scientists, not remove data scientists from the cycle.\n",
    "Experts could use AutoML to increase their job performance by focusing on the best-performing pipelines, and non-experts could use AutoML systems without a broad ML education."
   ],
   "metadata": {
    "id": "bpPqT2f3r_15"
   }
  },
  {
   "cell_type": "markdown",
   "source": [
    "## H2O for Classification\n",
    "\n",
    "Now, let's see how to implement the H2O framework of AutoML for a breast cancer binary classification task with 30 features and 569 samples belonging to either 'malignant' or 'benign' class."
   ],
   "metadata": {
    "id": "J51VHKlyGEHh"
   }
  },
  {
   "cell_type": "code",
   "execution_count": null,
   "metadata": {
    "colab": {
     "base_uri": "https://localhost:8080/"
    },
    "id": "QjLmpUWp-Myh",
    "outputId": "72c00e9e-d9a4-4e12-b28b-a361a4813b51"
   },
   "outputs": [],
   "source": [
    "# Install standard dependencies\n",
    "!pip install -q requests tabulate future matplotlib"
   ]
  },
  {
   "cell_type": "code",
   "execution_count": null,
   "outputs": [],
   "source": [
    "# macOS >= El Capitan requires an additional flag to pip here - check if we are running on macOS\n",
    "import platform\n",
    "if platform.system() == 'Darwin' and platform.release() >= '15.': # MacOS version check\n",
    "    !pip install -f http://h2o-release.s3.amazonaws.com/h2o/latest_stable_Py.html h2o --user --trusted-host h2o-release.s3.amazonaws.com\n",
    "else:\n",
    "    !pip install -f http://h2o-release.s3.amazonaws.com/h2o/latest_stable_Py.html h2o --trusted-host h2o-release.s3.amazonaws.com"
   ],
   "metadata": {
    "collapsed": false
   }
  },
  {
   "cell_type": "code",
   "source": [
    "# Make necessary imports\n",
    "import h2o\n",
    "from h2o.automl import H2OAutoML\n",
    "import pandas as pd\n",
    "from sklearn.model_selection import train_test_split"
   ],
   "metadata": {
    "id": "oeTZ6Prf-SUd"
   },
   "execution_count": null,
   "outputs": []
  },
  {
   "cell_type": "markdown",
   "source": [
    "### Data Loading"
   ],
   "metadata": {
    "id": "m9EXiln4IB3j"
   }
  },
  {
   "cell_type": "code",
   "source": [
    "# Load breast cancer dataset and prepare for h2o\n",
    "from sklearn.datasets import load_breast_cancer\n",
    "from sklearn.model_selection import train_test_split\n",
    "import h2o\n",
    "\n",
    "def load_and_prep_data(load_data_func, test_size=0.33, random_state=0):\n",
    "    # Load the dataset using the provided function\n",
    "    dataset = load_data_func()\n",
    "    X, y = dataset.data, dataset.target\n",
    "\n",
    "    # Split the dataset into training and testing sets\n",
    "    X_train, X_test, y_train, y_test = train_test_split(X, y, test_size=test_size, random_state=random_state)\n",
    "\n",
    "    # Get the feature names\n",
    "    feature_names = dataset.feature_names\n",
    "\n",
    "    # Convert datasets to pandas DataFrames\n",
    "    X_train = pd.DataFrame(X_train, columns=feature_names)\n",
    "    X_test = pd.DataFrame(X_test, columns=feature_names)\n",
    "    y_train = pd.DataFrame(y_train)\n",
    "    y_test = pd.DataFrame(y_test)\n",
    "\n",
    "    # Add the target column\n",
    "    X_train['target'] = y_train\n",
    "    X_test['target'] = y_test\n",
    "\n",
    "    return X_train, X_test\n",
    "\n",
    "# Initialize h2o and remove any previous data\n",
    "h2o.init()\n",
    "h2o.remove_all()\n",
    "\n",
    "# Load and preprocess the data\n",
    "X_train, X_test = load_and_prep_data(load_breast_cancer)"
   ],
   "metadata": {
    "id": "t0KuoGG8GFii"
   },
   "execution_count": null,
   "outputs": []
  },
  {
   "cell_type": "code",
   "execution_count": null,
   "outputs": [],
   "source": [
    "# Convert pandas dataframe to h2o frame\n",
    "train = h2o.H2OFrame(X_train)\n",
    "test = h2o.H2OFrame(X_test)\n",
    "\n",
    "# Identify predictors and response\n",
    "x = train.columns\n",
    "y = \"target\"\n",
    "x.remove(y)\n",
    "\n",
    "# For binary classification, response should be a factor\n",
    "train[y] = train[y].asfactor()\n",
    "test[y] = test[y].asfactor()"
   ],
   "metadata": {
    "collapsed": false
   }
  },
  {
   "cell_type": "code",
   "execution_count": null,
   "outputs": [],
   "source": [
    "X_train"
   ],
   "metadata": {
    "collapsed": false
   }
  },
  {
   "cell_type": "code",
   "execution_count": null,
   "outputs": [],
   "source": [
    "# Run AutoML for 20 base models (limited to 1 hour max runtime by default, but we will set it to 5 min to save time)\n",
    "aml = H2OAutoML(max_runtime_secs = 300, seed = 1, project_name = \"breast_cancer\")\n",
    "aml.train(x = x, y = y, training_frame = train)"
   ],
   "metadata": {
    "collapsed": false
   }
  },
  {
   "cell_type": "markdown",
   "source": [
    "## View training results\n",
    "\n",
    "We can use **aml.leaderboard** to view the top models built by AutoML and compare their performance. Explore the **leaderboard** to see the different models built by AutoML."
   ],
   "metadata": {
    "id": "pH66_joSltZK"
   }
  },
  {
   "cell_type": "code",
   "source": [
    "# View the AutoML Leaderboard\n",
    "lb = aml.leaderboard\n",
    "lb.head(rows=lb.nrows)  # Print all rows instead of default (10 rows)"
   ],
   "metadata": {
    "colab": {
     "base_uri": "https://localhost:8080/",
     "height": 105
    },
    "id": "-CFw3FMBbrNN",
    "outputId": "f1696979-2295-4cf8-8dba-47b7cc326568"
   },
   "execution_count": null,
   "outputs": []
  },
  {
   "cell_type": "markdown",
   "source": [
    "## View the top model\n",
    "\n",
    "We can use **aml.leader** to view the single top model built by AutoML and its performance."
   ],
   "metadata": {
    "collapsed": false
   }
  },
  {
   "cell_type": "code",
   "execution_count": null,
   "outputs": [],
   "source": [
    "# The leader model is stored here\n",
    "aml.leader"
   ],
   "metadata": {
    "collapsed": false
   }
  },
  {
   "cell_type": "markdown",
   "source": [
    "We can also look at the best model using a specific metric, such as **AUC**., or algorithm, such as **XGBoost**."
   ],
   "metadata": {
    "collapsed": false
   }
  },
  {
   "cell_type": "code",
   "execution_count": null,
   "outputs": [],
   "source": [
    "# Get the best model based on AUC and using XGBoost\n",
    "aml.get_best_model(criterion = \"AUC\", algorithm = \"XGBoost\")"
   ],
   "metadata": {
    "collapsed": false
   }
  },
  {
   "cell_type": "markdown",
   "source": [
    "## Model performance\n",
    "\n",
    "Now that we have trained our model, we can estimate its performance on our validation data. We can use the `aml.leader.model_performance()` method to get the performance of the leader model on the validation data."
   ],
   "metadata": {
    "collapsed": false
   }
  },
  {
   "cell_type": "code",
   "execution_count": null,
   "outputs": [],
   "source": [
    "# Get the performance of the leader model\n",
    "aml.leader.model_performance(test_data=test)"
   ],
   "metadata": {
    "collapsed": false
   }
  },
  {
   "cell_type": "markdown",
   "source": [
    "## Model explainability\n",
    "\n",
    "We can also get a detailed summary of the model built by AutoML using the **explain()** method."
   ],
   "metadata": {
    "collapsed": false
   }
  },
  {
   "cell_type": "code",
   "execution_count": null,
   "outputs": [],
   "source": [
    "# Get a detailed summary of the best XGBoost model\n",
    "best_xgb = aml.get_best_model(algorithm = \"XGBoost\")\n",
    "best_xgb.explain(test)"
   ],
   "metadata": {
    "collapsed": false
   }
  },
  {
   "cell_type": "markdown",
   "source": [
    "## Your Turn\n",
    "\n",
    "The task we presented for you is a binary classification task. Now, we want you to try AutoML for a regression task. We will use the **California Housing** dataset for this task. The dataset contains 8 features and 20640 samples. The task is to predict the median house value for each block in California. The dataset is available in the **sklearn.datasets** module. You can use the **fetch_california_housing()** function to load the dataset. You can also find more information about the dataset [here](https://scikit-learn.org/stable/datasets/index.html#california-housing-dataset)."
   ],
   "metadata": {
    "collapsed": false
   }
  },
  {
   "cell_type": "code",
   "execution_count": null,
   "outputs": [],
   "source": [
    "from sklearn.datasets import fetch_california_housing\n",
    "import h2o\n",
    "\n",
    "# Initialize h2o and remove any previous data\n",
    "h2o.init()\n",
    "h2o.remove_all()\n",
    "\n",
    "# Load and preprocess the data\n",
    "X_train, X_test = load_and_prep_data(fetch_california_housing)"
   ],
   "metadata": {
    "collapsed": false
   }
  },
  {
   "cell_type": "code",
   "execution_count": null,
   "outputs": [],
   "source": [
    "# Convert pandas dataframe to h2o frame\n",
    "train = h2o.H2OFrame(X_train)\n",
    "test = h2o.H2OFrame(X_test)\n",
    "\n",
    "# Identify predictors and response\n",
    "x = train.columns\n",
    "y = \"target\"\n",
    "x.remove(y)\n",
    "\n",
    "# For regression, response should be a numeric\n",
    "train[y] = train[y].asnumeric()\n",
    "test[y] = test[y].asnumeric()"
   ],
   "metadata": {
    "collapsed": false
   }
  },
  {
   "cell_type": "code",
   "execution_count": null,
   "outputs": [],
   "source": [
    "## Your code here - build an H2OAutoML model for the Boston Housing dataset, select a model, and report on its performance\n",
    "## What's the best accuracy you can get?\n",
    "\n"
   ],
   "metadata": {
    "collapsed": false
   }
  }
 ]
}
