{
 "cells": [
  {
   "cell_type": "markdown",
   "metadata": {
    "id": "vk0LoqhRIhuT"
   },
   "source": [
    "[![Open In Colab](https://colab.research.google.com/assets/colab-badge.svg)](https://colab.research.google.com/github/eldanc/mlbootcamp2023/blob/main/lab_3_1_neuralnets.ipynb)\n",
    "\n",
    "# UofT DSI-CARTE Postdoc Bootcamp\n",
    "#### Tuesday July 18, 2023\n",
    "#### Intro to Neural Networks in PyTorch - Lab 1, Day 1\n",
    "#### Teaching team: Alex Olson, Nakul Upadhya, Shehnaz Islam\n",
    "##### Lab author: Kyle E. C. Booth, kbooth@mie.utoronto.ca, edited by Jake Mosseri"
   ]
  },
  {
   "cell_type": "markdown",
   "metadata": {
    "id": "IWWYgttBIhuX"
   },
   "source": [
    "In this lab, we will be taking our first look at developing our own *neural networks* (NN) with [PyTorch](https://pytorch.org/), probably the most popular machine learning library for working with NNs."
   ]
  },
  {
   "cell_type": "code",
   "execution_count": 14,
   "metadata": {
    "id": "LWQyyScGIhuY",
    "pycharm": {
     "is_executing": true
    },
    "ExecuteTime": {
     "end_time": "2023-07-14T18:08:12.090893Z",
     "start_time": "2023-07-14T18:08:01.080833Z"
    }
   },
   "outputs": [
    {
     "name": "stdout",
     "output_type": "stream",
     "text": [
      "Requirement already satisfied: torch in /Users/alex/miniconda3/envs/pytorch/lib/python3.11/site-packages (2.0.1)\r\n",
      "Requirement already satisfied: torchvision in /Users/alex/miniconda3/envs/pytorch/lib/python3.11/site-packages (0.15.2)\r\n",
      "Requirement already satisfied: torchaudio in /Users/alex/miniconda3/envs/pytorch/lib/python3.11/site-packages (2.0.2)\r\n",
      "Requirement already satisfied: numpy in /Users/alex/miniconda3/envs/pytorch/lib/python3.11/site-packages (1.25.0)\r\n",
      "Requirement already satisfied: pandas in /Users/alex/miniconda3/envs/pytorch/lib/python3.11/site-packages (2.0.3)\r\n",
      "Requirement already satisfied: matplotlib in /Users/alex/miniconda3/envs/pytorch/lib/python3.11/site-packages (3.7.1)\r\n",
      "Requirement already satisfied: scikit-learn in /Users/alex/miniconda3/envs/pytorch/lib/python3.11/site-packages (1.3.0)\r\n",
      "Collecting tensorboard\r\n",
      "  Downloading tensorboard-2.13.0-py3-none-any.whl (5.6 MB)\r\n",
      "\u001B[2K     \u001B[90m━━━━━━━━━━━━━━━━━━━━━━━━━━━━━━━━━━━━━━━━\u001B[0m \u001B[32m5.6/5.6 MB\u001B[0m \u001B[31m24.6 MB/s\u001B[0m eta \u001B[36m0:00:00\u001B[0m00:01\u001B[0m00:01\u001B[0m\r\n",
      "\u001B[?25hRequirement already satisfied: filelock in /Users/alex/miniconda3/envs/pytorch/lib/python3.11/site-packages (from torch) (3.9.0)\r\n",
      "Requirement already satisfied: typing-extensions in /Users/alex/miniconda3/envs/pytorch/lib/python3.11/site-packages (from torch) (4.6.3)\r\n",
      "Requirement already satisfied: sympy in /Users/alex/miniconda3/envs/pytorch/lib/python3.11/site-packages (from torch) (1.11.1)\r\n",
      "Requirement already satisfied: networkx in /Users/alex/miniconda3/envs/pytorch/lib/python3.11/site-packages (from torch) (2.8.4)\r\n",
      "Requirement already satisfied: jinja2 in /Users/alex/miniconda3/envs/pytorch/lib/python3.11/site-packages (from torch) (3.1.2)\r\n",
      "Requirement already satisfied: requests in /Users/alex/miniconda3/envs/pytorch/lib/python3.11/site-packages (from torchvision) (2.29.0)\r\n",
      "Requirement already satisfied: pillow!=8.3.*,>=5.3.0 in /Users/alex/miniconda3/envs/pytorch/lib/python3.11/site-packages (from torchvision) (9.4.0)\r\n",
      "Requirement already satisfied: python-dateutil>=2.8.2 in /Users/alex/miniconda3/envs/pytorch/lib/python3.11/site-packages (from pandas) (2.8.2)\r\n",
      "Requirement already satisfied: pytz>=2020.1 in /Users/alex/miniconda3/envs/pytorch/lib/python3.11/site-packages (from pandas) (2023.3)\r\n",
      "Requirement already satisfied: tzdata>=2022.1 in /Users/alex/miniconda3/envs/pytorch/lib/python3.11/site-packages (from pandas) (2023.3)\r\n",
      "Requirement already satisfied: contourpy>=1.0.1 in /Users/alex/miniconda3/envs/pytorch/lib/python3.11/site-packages (from matplotlib) (1.0.5)\r\n",
      "Requirement already satisfied: cycler>=0.10 in /Users/alex/miniconda3/envs/pytorch/lib/python3.11/site-packages (from matplotlib) (0.11.0)\r\n",
      "Requirement already satisfied: fonttools>=4.22.0 in /Users/alex/miniconda3/envs/pytorch/lib/python3.11/site-packages (from matplotlib) (4.40.0)\r\n",
      "Requirement already satisfied: kiwisolver>=1.0.1 in /Users/alex/miniconda3/envs/pytorch/lib/python3.11/site-packages (from matplotlib) (1.4.4)\r\n",
      "Requirement already satisfied: packaging>=20.0 in /Users/alex/miniconda3/envs/pytorch/lib/python3.11/site-packages (from matplotlib) (23.1)\r\n",
      "Requirement already satisfied: pyparsing>=2.3.1 in /Users/alex/miniconda3/envs/pytorch/lib/python3.11/site-packages (from matplotlib) (3.1.0)\r\n",
      "Requirement already satisfied: scipy>=1.5.0 in /Users/alex/miniconda3/envs/pytorch/lib/python3.11/site-packages (from scikit-learn) (1.10.1)\r\n",
      "Requirement already satisfied: joblib>=1.1.1 in /Users/alex/miniconda3/envs/pytorch/lib/python3.11/site-packages (from scikit-learn) (1.3.1)\r\n",
      "Requirement already satisfied: threadpoolctl>=2.0.0 in /Users/alex/miniconda3/envs/pytorch/lib/python3.11/site-packages (from scikit-learn) (3.2.0)\r\n",
      "Collecting absl-py>=0.4 (from tensorboard)\r\n",
      "  Using cached absl_py-1.4.0-py3-none-any.whl (126 kB)\r\n",
      "Collecting grpcio>=1.48.2 (from tensorboard)\r\n",
      "  Using cached grpcio-1.56.0-cp311-cp311-macosx_10_10_universal2.whl (8.9 MB)\r\n",
      "Collecting google-auth<3,>=1.6.3 (from tensorboard)\r\n",
      "  Downloading google_auth-2.22.0-py2.py3-none-any.whl (181 kB)\r\n",
      "\u001B[2K     \u001B[90m━━━━━━━━━━━━━━━━━━━━━━━━━━━━━━━━━━━━━━━\u001B[0m \u001B[32m181.8/181.8 kB\u001B[0m \u001B[31m5.9 MB/s\u001B[0m eta \u001B[36m0:00:00\u001B[0m\r\n",
      "\u001B[?25hCollecting google-auth-oauthlib<1.1,>=0.5 (from tensorboard)\r\n",
      "  Using cached google_auth_oauthlib-1.0.0-py2.py3-none-any.whl (18 kB)\r\n",
      "Collecting markdown>=2.6.8 (from tensorboard)\r\n",
      "  Using cached Markdown-3.4.3-py3-none-any.whl (93 kB)\r\n",
      "Collecting protobuf>=3.19.6 (from tensorboard)\r\n",
      "  Downloading protobuf-4.23.4-cp37-abi3-macosx_10_9_universal2.whl (400 kB)\r\n",
      "\u001B[2K     \u001B[90m━━━━━━━━━━━━━━━━━━━━━━━━━━━━━━━━━━━━━━\u001B[0m \u001B[32m400.3/400.3 kB\u001B[0m \u001B[31m12.2 MB/s\u001B[0m eta \u001B[36m0:00:00\u001B[0m\r\n",
      "\u001B[?25hRequirement already satisfied: setuptools>=41.0.0 in /Users/alex/miniconda3/envs/pytorch/lib/python3.11/site-packages (from tensorboard) (67.8.0)\r\n",
      "Collecting tensorboard-data-server<0.8.0,>=0.7.0 (from tensorboard)\r\n",
      "  Using cached tensorboard_data_server-0.7.1-py3-none-macosx_10_9_x86_64.whl (4.8 MB)\r\n",
      "Collecting werkzeug>=1.0.1 (from tensorboard)\r\n",
      "  Using cached Werkzeug-2.3.6-py3-none-any.whl (242 kB)\r\n",
      "Requirement already satisfied: wheel>=0.26 in /Users/alex/miniconda3/envs/pytorch/lib/python3.11/site-packages (from tensorboard) (0.38.4)\r\n",
      "Collecting cachetools<6.0,>=2.0.0 (from google-auth<3,>=1.6.3->tensorboard)\r\n",
      "  Using cached cachetools-5.3.1-py3-none-any.whl (9.3 kB)\r\n",
      "Collecting pyasn1-modules>=0.2.1 (from google-auth<3,>=1.6.3->tensorboard)\r\n",
      "  Using cached pyasn1_modules-0.3.0-py2.py3-none-any.whl (181 kB)\r\n",
      "Collecting rsa<5,>=3.1.4 (from google-auth<3,>=1.6.3->tensorboard)\r\n",
      "  Using cached rsa-4.9-py3-none-any.whl (34 kB)\r\n",
      "Requirement already satisfied: six>=1.9.0 in /Users/alex/miniconda3/envs/pytorch/lib/python3.11/site-packages (from google-auth<3,>=1.6.3->tensorboard) (1.16.0)\r\n",
      "Requirement already satisfied: urllib3<2.0 in /Users/alex/miniconda3/envs/pytorch/lib/python3.11/site-packages (from google-auth<3,>=1.6.3->tensorboard) (1.26.16)\r\n",
      "Collecting requests-oauthlib>=0.7.0 (from google-auth-oauthlib<1.1,>=0.5->tensorboard)\r\n",
      "  Using cached requests_oauthlib-1.3.1-py2.py3-none-any.whl (23 kB)\r\n",
      "Requirement already satisfied: charset-normalizer<4,>=2 in /Users/alex/miniconda3/envs/pytorch/lib/python3.11/site-packages (from requests->torchvision) (2.0.4)\r\n",
      "Requirement already satisfied: idna<4,>=2.5 in /Users/alex/miniconda3/envs/pytorch/lib/python3.11/site-packages (from requests->torchvision) (3.4)\r\n",
      "Requirement already satisfied: certifi>=2017.4.17 in /Users/alex/miniconda3/envs/pytorch/lib/python3.11/site-packages (from requests->torchvision) (2023.5.7)\r\n",
      "Requirement already satisfied: MarkupSafe>=2.1.1 in /Users/alex/miniconda3/envs/pytorch/lib/python3.11/site-packages (from werkzeug>=1.0.1->tensorboard) (2.1.1)\r\n",
      "Requirement already satisfied: mpmath>=0.19 in /Users/alex/miniconda3/envs/pytorch/lib/python3.11/site-packages (from sympy->torch) (1.2.1)\r\n",
      "Collecting pyasn1<0.6.0,>=0.4.6 (from pyasn1-modules>=0.2.1->google-auth<3,>=1.6.3->tensorboard)\r\n",
      "  Using cached pyasn1-0.5.0-py2.py3-none-any.whl (83 kB)\r\n",
      "Collecting oauthlib>=3.0.0 (from requests-oauthlib>=0.7.0->google-auth-oauthlib<1.1,>=0.5->tensorboard)\r\n",
      "  Using cached oauthlib-3.2.2-py3-none-any.whl (151 kB)\r\n",
      "Installing collected packages: werkzeug, tensorboard-data-server, pyasn1, protobuf, oauthlib, markdown, grpcio, cachetools, absl-py, rsa, requests-oauthlib, pyasn1-modules, google-auth, google-auth-oauthlib, tensorboard\r\n",
      "Successfully installed absl-py-1.4.0 cachetools-5.3.1 google-auth-2.22.0 google-auth-oauthlib-1.0.0 grpcio-1.56.0 markdown-3.4.3 oauthlib-3.2.2 protobuf-4.23.4 pyasn1-0.5.0 pyasn1-modules-0.3.0 requests-oauthlib-1.3.1 rsa-4.9 tensorboard-2.13.0 tensorboard-data-server-0.7.1 werkzeug-2.3.6\r\n"
     ]
    }
   ],
   "source": [
    "# Install necessary libraries in one command\n",
    "!pip install torch torchvision torchaudio numpy pandas matplotlib scikit-learn tensorboard\n",
    "# Import necessary libraries\n",
    "import numpy as np\n",
    "import pandas as pd"
   ]
  },
  {
   "cell_type": "markdown",
   "metadata": {
    "id": "6Cj0g_bBIhuZ"
   },
   "source": [
    "### An Intuitive Intro to Neural Nets\n",
    "\n",
    "In today's lab, we're going to start with an intuitive exercise on the Titanic dataset using Logistic Regression and a simple Neural Network before moving onto some more complex stuff. Let's start by loading our dataset.\n",
    "\n",
    "The Titanic data is stored in a CSV file (located in the 'data' directory of your root folder), so we need to use Pandas to load the data and then separate it into our X (features) and y (target). We also need to: i) drop unimportant columns, and ii) impute missing values.\n",
    "\n",
    "We're going to do this all in the next cell."
   ]
  },
  {
   "cell_type": "code",
   "execution_count": 2,
   "metadata": {
    "id": "YYb9noojIhua",
    "ExecuteTime": {
     "end_time": "2023-07-14T18:03:20.616203Z",
     "start_time": "2023-07-14T18:03:19.420676Z"
    }
   },
   "outputs": [
    {
     "data": {
      "text/plain": "   pclass  survived  sex      age  sibsp  parch      fare\n0       1         1    0  29.0000      0      0  211.3375\n1       1         1    1   0.9167      1      2  151.5500\n2       1         0    0   2.0000      1      2  151.5500\n3       1         0    1  30.0000      1      2  151.5500\n4       1         0    0  25.0000      1      2  151.5500",
      "text/html": "<div>\n<style scoped>\n    .dataframe tbody tr th:only-of-type {\n        vertical-align: middle;\n    }\n\n    .dataframe tbody tr th {\n        vertical-align: top;\n    }\n\n    .dataframe thead th {\n        text-align: right;\n    }\n</style>\n<table border=\"1\" class=\"dataframe\">\n  <thead>\n    <tr style=\"text-align: right;\">\n      <th></th>\n      <th>pclass</th>\n      <th>survived</th>\n      <th>sex</th>\n      <th>age</th>\n      <th>sibsp</th>\n      <th>parch</th>\n      <th>fare</th>\n    </tr>\n  </thead>\n  <tbody>\n    <tr>\n      <th>0</th>\n      <td>1</td>\n      <td>1</td>\n      <td>0</td>\n      <td>29.0000</td>\n      <td>0</td>\n      <td>0</td>\n      <td>211.3375</td>\n    </tr>\n    <tr>\n      <th>1</th>\n      <td>1</td>\n      <td>1</td>\n      <td>1</td>\n      <td>0.9167</td>\n      <td>1</td>\n      <td>2</td>\n      <td>151.5500</td>\n    </tr>\n    <tr>\n      <th>2</th>\n      <td>1</td>\n      <td>0</td>\n      <td>0</td>\n      <td>2.0000</td>\n      <td>1</td>\n      <td>2</td>\n      <td>151.5500</td>\n    </tr>\n    <tr>\n      <th>3</th>\n      <td>1</td>\n      <td>0</td>\n      <td>1</td>\n      <td>30.0000</td>\n      <td>1</td>\n      <td>2</td>\n      <td>151.5500</td>\n    </tr>\n    <tr>\n      <th>4</th>\n      <td>1</td>\n      <td>0</td>\n      <td>0</td>\n      <td>25.0000</td>\n      <td>1</td>\n      <td>2</td>\n      <td>151.5500</td>\n    </tr>\n  </tbody>\n</table>\n</div>"
     },
     "execution_count": 2,
     "metadata": {},
     "output_type": "execute_result"
    }
   ],
   "source": [
    "from sklearn import preprocessing\n",
    "from sklearn.datasets import fetch_openml\n",
    "\n",
    "# Fetch the Titanic dataset as a pandas DataFrame\n",
    "titanic_data = fetch_openml(\"titanic\", version=1, as_frame=True, parser='auto').frame\n",
    "\n",
    "# Convert 'survived' column to numeric values\n",
    "titanic_data['survived'] = pd.to_numeric(titanic_data['survived'])\n",
    "\n",
    "# Remove unnecessary columns\n",
    "columns_to_drop = ['boat', 'body', 'home.dest']\n",
    "titanic_data.drop(columns_to_drop, axis=1, inplace=True)\n",
    "\n",
    "# Remove more unimportant columns\n",
    "additional_columns_to_drop = ['name', 'ticket', 'cabin', 'embarked']\n",
    "titanic_data = titanic_data.drop(additional_columns_to_drop, axis=1)\n",
    "\n",
    "# Encode the 'sex' column using LabelEncoder\n",
    "label_encoder = preprocessing.LabelEncoder()\n",
    "label_encoder.fit(titanic_data['sex'])\n",
    "titanic_data['sex'] = label_encoder.transform(titanic_data['sex'])\n",
    "\n",
    "# Display the first few rows of the processed data\n",
    "titanic_data.head()"
   ]
  },
  {
   "cell_type": "markdown",
   "metadata": {
    "id": "tdHK09KWIhub"
   },
   "source": [
    "Next, we will split the dataset into a training set (where we will do our cross validation) and a test set (our hold-out data)."
   ]
  },
  {
   "cell_type": "code",
   "execution_count": 3,
   "metadata": {
    "id": "CHYYoq9uIhuc",
    "ExecuteTime": {
     "end_time": "2023-07-14T18:03:24.829137Z",
     "start_time": "2023-07-14T18:03:24.761177Z"
    }
   },
   "outputs": [],
   "source": [
    "from sklearn.model_selection import train_test_split\n",
    "\n",
    "# Split dataset into features and target\n",
    "target_data = titanic_data[\"survived\"]\n",
    "feature_data = titanic_data.drop(\"survived\", axis=1)\n",
    "\n",
    "# Split data into training set and test set\n",
    "X_train, X_test, y_train, y_test = train_test_split(feature_data, target_data, test_size=0.3, random_state=0)"
   ]
  },
  {
   "cell_type": "markdown",
   "metadata": {
    "id": "4UvxOkuoIhud"
   },
   "source": [
    "Now, we're ready to try out some models on our training data. Since we're solving a binary classification problem (i.e., predicting a 0 or 1 target), we want to design classifiers. Examples of simple machine learning classifiers include: **k-nearest neighbors**, **decision trees**, and **logistic regression**.\n",
    "\n",
    "In this exercise, we're going to fit a logistic regression to our data and then design a neural network architecture that behaves exactly like a logistic regression and validate that we get the same result.\n",
    "\n",
    "##### Intro: Logistic Regression\n",
    "\n",
    "Logistic regression models are linear models similar to linear regression models. The linear regression equation can be written as follows:\n",
    "\n",
    "\n",
    "<center>$\\hat{y} = \\beta_0 + \\beta_1 x_1 + \\beta_2 x_2 +, \\dots, + \\beta_n x_n$</center>\n",
    "\n",
    "Where $\\hat{y}$ is our prediction, $\\beta$ is our vector of coefficients (the things we learn), and $x$ is our feature vector. The linear regression equation defines a line in $n$ dimensional space. The problem with linear regression is that it doesn't really perform well on classification tasks. Consider the following example:\n",
    "\n",
    "<img src=\"https://github.com/lyeskhalil/mlbootcamp/blob/master/img/linear-classification.png?raw=1\" width=\"500\"/>\n",
    "\n",
    "The green line represents our trained linear regression model. Our feature is the size of a tumor, and our target is whether it is malignant or not (0 or 1). As we can see, even though our model is trained to the data to minimize error, for a lot of the values of tumor size it is going to give us a weird result (e.g., for some really small tumors, the prediction would be a negative value!).\n",
    "\n",
    "To resolve this, we use the *logistic function* (also called the *sigmoid* function) to 'squish' our linear model to be bounded by 0 and 1. The logistic (sigmoid) function is $\\frac{1}{1+e^{-x}}$, and thus our logistic regression equation becomes:\n",
    "\n",
    "<center>$\\large\\hat{y} = \\frac{1}{1+e^{-(\\beta_0 + \\beta_1 x_1 + \\beta_2 x_2 +, \\dots, + \\beta_n x_n)}}$</center>\n",
    "\n",
    "In this equation, the values for $\\hat{y}$ can never be below 0, and can never exceed 1 even for the most extreme feature values $x$.\n",
    "\n",
    "**YOUR TURN:**\n",
    "* Assuming you've trained a nice logistic regression model to the below data (see Figure), what might the model fit look like (i.e., what will the line look like)? ____________________________________\n",
    "* For new data samples with features $x$, how would you convert the output of the logistic regression, $\\hat{y}$, into a classification (0 or 1)? ______________________________\n",
    "\n",
    "<img src=\"https://github.com/lyeskhalil/mlbootcamp/blob/master/img/logistic-classification.jpg?raw=1\" width=\"400\"/>\n",
    "\n",
    "OK, cool! Let's use scikit-learn to fit a logistic regression model to our training set and then predict on our test set (we won't do cross validation this time).\n",
    "\n",
    "Before we can fit our logistic regression model to our training data, we can conduct imputation to replace missing values with the mean/median/mode value in the column. For this exercise we will conduct mode imputation (i.e., the most common value in the column).\n"
   ]
  },
  {
   "cell_type": "code",
   "execution_count": 4,
   "metadata": {
    "id": "t7iInLxCIhue",
    "ExecuteTime": {
     "end_time": "2023-07-14T18:03:41.212183Z",
     "start_time": "2023-07-14T18:03:41.071161Z"
    }
   },
   "outputs": [
    {
     "name": "stdout",
     "output_type": "stream",
     "text": [
      "Logistic accuracy: 79.13%\n"
     ]
    }
   ],
   "source": [
    "from sklearn.impute import SimpleImputer\n",
    "from sklearn.linear_model import LogisticRegression\n",
    "from sklearn.metrics import accuracy_score\n",
    "\n",
    "# Impute missing values using the most frequent strategy\n",
    "imp = SimpleImputer(missing_values=np.nan, strategy='most_frequent')\n",
    "imp.fit(X_train)\n",
    "\n",
    "# Transform both the training and test sets\n",
    "X_train = imp.transform(X_train)\n",
    "X_test = imp.transform(X_test)\n",
    "\n",
    "# Fit the logistic regression model\n",
    "logreg = LogisticRegression()\n",
    "logreg.fit(X_train, y_train)\n",
    "\n",
    "# Make predictions on the test set\n",
    "predictions = logreg.predict(X_test)\n",
    "\n",
    "# Calculate accuracy\n",
    "accuracy = accuracy_score(y_test, predictions)\n",
    "print(f\"Logistic accuracy: {accuracy*100:.2f}%\")"
   ]
  },
  {
   "cell_type": "markdown",
   "metadata": {
    "id": "bX9iX-X4Ihuf"
   },
   "source": [
    "The results show our logistic regression is 79.13% accurate in its predictions.\n",
    "\n",
    "**YOUR TURN:**\n",
    "* The default regularization parameter for sklearn's logistic regression is L2 (or ridge regression); can you figure out how to change it to L1 (LASSO)? _Note: you'll have to look at the [documentation](https://scikit-learn.org/stable/modules/generated/sklearn.linear_model.LogisticRegression.html)!_ ______________________\n",
    "* What is the mean accuracy of an L1 regularized Logistic regression model on the training set? ______________________\n",
    "\n",
    "OK - time for the good stuff!\n",
    "\n",
    "### Neural Networks\n",
    "\n",
    "A *neural network* (NN) is a type of machine learning model that, like linear or logistic regression, takes a feature vector, X, as input and predicts a target, y. The way it does this is a little bit different, however. A typical NN architecture consists of: an input layer, hidden layers, and an output layer. Each layer consists of a set of nodes (neurons) connected by edges (outputs). Let's look at the figure below:\n",
    "\n",
    "<img src=\"https://github.com/lyeskhalil/mlbootcamp/blob/master/img/nn.jpeg?raw=1\" width=\"400\"/>\n",
    "\n",
    "**Input layer**: This is a passive layer that simply takes in your feature data and outputs it to the hidden layers. You can think of each input layer neuron as being associated with a feature in your feature set.\n",
    "\n",
    "**Hidden layer**: This is where the magic happens. The original features, as received by the input layer, go through a series of transformations within the hidden layer. You can think of each node (neuron) within the hidden layer as a highly transformed feature.\n",
    "\n",
    "**Output layer**: This is where we get our final result, the 0 or 1 prediction.\n",
    "\n",
    "### Zooming In\n",
    "\n",
    "Let's take a look at what is happening at any given node (neuron) within the hidden layer. Take a look at the following image of a neuron within an NN:\n",
    "\n",
    "<img src=\"https://github.com/lyeskhalil/mlbootcamp/blob/master/img/neuron.png?raw=1\" width=\"500\"/>\n",
    "\n",
    "Every neuron has some inputs ($x_1, x_2, \\dots, x_n$) with input weights ($w_1, w_2, \\dots, w_n$) and an output, $Y$. The neuron itself applies a transformation, $f$, known as the *activation function*, to the linear combination of its inputs and input weights. The value $b$ is a constant weight called the bias.\n",
    "\n",
    "There are many different types of activation functions, but the popular ones are the *sigmoid*, *tanh*, and *ReLU* activation functions. Yes, you heard correctly: the sigmoid function is a popular activation function! (This should be reminding you of the logistic regression model we discussed above).\n",
    "\n",
    "**YOUR TURN:**\n",
    "* If you were to develop a simple neural network architecture that was equivalent to a logistic regression model for the Titanic data, how would you do it? Get a pen and paper and draw it out. Make sure to specify: the input layer, the hidden layer(s), the output layer, the activation function(s), the weights, and the biases.\n",
    "* How many hidden layers does your NN have? What type of activation function, $f$, does it use? _________________\n",
    "* Say you wanted to add another layer to your NN architecture with 3x neurons, what would your new architecture look like? _________________\n",
    "\n",
    "### Intro to  PyTorch\n",
    "\n",
    "OK, so now that we've made the connection between NNs and Logistic Regression, let's code up our little NN in PyTorch and use it to predict survivorship on the Titanic dataset.\n",
    "\n",
    "First, *tensors* are the fundamental data type of PyTorch. Each tensor is effectively a multi-dimensional array, just like a numpy array. The primary difference is that tensors have been setup in such a way to enhance the NN training process.\n",
    "\n",
    "Let's load our X and y training data into tensors:"
   ]
  },
  {
   "cell_type": "code",
   "execution_count": 5,
   "metadata": {
    "id": "gxobcMqFIhug",
    "ExecuteTime": {
     "end_time": "2023-07-14T18:04:09.457211Z",
     "start_time": "2023-07-14T18:04:06.360997Z"
    }
   },
   "outputs": [],
   "source": [
    "import torch\n",
    "\n",
    "X_train_tensor = torch.tensor(X_train).float()\n",
    "y_train_tensor = torch.tensor(y_train.values).float()\n",
    "\n",
    "X_test_tensor = torch.tensor(X_test).float()\n",
    "y_test_tensor = torch.tensor(y_test.values).float()"
   ]
  },
  {
   "cell_type": "code",
   "source": [
    "print(\"Shape of X_train_tensor:\", X_train_tensor.shape)\n",
    "print(\"Shape of y_train_tensor:\", y_train_tensor.shape)\n",
    "print(\"Shape of X_test_tensor:\", X_test_tensor.shape)\n",
    "print(\"Shape of y_test_tensor:\", y_test_tensor.shape)"
   ],
   "metadata": {
    "id": "Ge4UKjvvuNy3",
    "ExecuteTime": {
     "end_time": "2023-07-14T18:04:24.064402Z",
     "start_time": "2023-07-14T18:04:24.053242Z"
    }
   },
   "execution_count": 7,
   "outputs": [
    {
     "name": "stdout",
     "output_type": "stream",
     "text": [
      "Shape of X_train_tensor: torch.Size([916, 6])\n",
      "Shape of y_train_tensor: torch.Size([916])\n",
      "Shape of X_test_tensor: torch.Size([393, 6])\n",
      "Shape of y_test_tensor: torch.Size([393])\n"
     ]
    }
   ]
  },
  {
   "cell_type": "markdown",
   "metadata": {
    "id": "XCDsVueiIhuh"
   },
   "source": [
    "Next, we will actually define our logistic regression network model class. The below function, `LogisticRegression`, applies a sigmoid transformation to the output, as required."
   ]
  },
  {
   "cell_type": "code",
   "execution_count": 8,
   "metadata": {
    "id": "vnbPW--OIhuh",
    "ExecuteTime": {
     "end_time": "2023-07-14T18:04:47.916064Z",
     "start_time": "2023-07-14T18:04:47.904718Z"
    }
   },
   "outputs": [],
   "source": [
    "import torch\n",
    "\n",
    "class LogisticRegression(torch.nn.Module):\n",
    "    def __init__(self, input_dim, output_dim):\n",
    "        super(LogisticRegression, self).__init__()\n",
    "        self.linear = torch.nn.Linear(input_dim, output_dim)\n",
    "\n",
    "    def forward(self, x):\n",
    "        outputs = torch.sigmoid(self.linear(x))\n",
    "        return outputs"
   ]
  },
  {
   "cell_type": "markdown",
   "metadata": {
    "id": "OBNTYMbRIhuh"
   },
   "source": [
    "Next, we identify the dimensions of our problem: 6 x 1 (6 features and 2 target classes: 0 or 1), initialize our model with those dimensions and then specify the loss function ([cross entropy](https://en.wikipedia.org/wiki/Cross_entropy)) and optimization technique ([stochastic gradient descent](https://en.wikipedia.org/wiki/Stochastic_gradient_descent))."
   ]
  },
  {
   "cell_type": "code",
   "execution_count": 9,
   "metadata": {
    "id": "zAfHj63fIhui",
    "ExecuteTime": {
     "end_time": "2023-07-14T18:05:03.758996Z",
     "start_time": "2023-07-14T18:05:03.749915Z"
    }
   },
   "outputs": [],
   "source": [
    "input_dim = 6\n",
    "output_dim = 1\n",
    "\n",
    "model = LogisticRegression(input_dim, output_dim)\n",
    "\n",
    "criterion = torch.nn.BCELoss()\n",
    "optimizer = torch.optim.SGD(model.parameters(), lr=0.001)"
   ]
  },
  {
   "cell_type": "code",
   "execution_count": 10,
   "outputs": [
    {
     "data": {
      "text/plain": "LogisticRegression(\n  (linear): Linear(in_features=6, out_features=1, bias=True)\n)"
     },
     "execution_count": 10,
     "metadata": {},
     "output_type": "execute_result"
    }
   ],
   "source": [
    "model"
   ],
   "metadata": {
    "id": "4-HWmInkYMAZ",
    "ExecuteTime": {
     "end_time": "2023-07-14T18:05:04.402939Z",
     "start_time": "2023-07-14T18:05:04.396755Z"
    }
   }
  },
  {
   "cell_type": "markdown",
   "metadata": {
    "id": "MyFpvFy_Ihui"
   },
   "source": [
    "Next, we set up our dataset to be *iterable* such that we can train our neural network in *batches*. A batch is a subset of the total data such that if we combined them all, we'd get the whole dataset. Batching is done to speed up the training process and reduce memory requirements.\n",
    "\n",
    "**YOUR TURN:**\n",
    "* If we select a batch size of 256, how many batches of training data will be generated?________________\n",
    "\n",
    "The `DataLoader` function does this batching operation for us."
   ]
  },
  {
   "cell_type": "code",
   "execution_count": 11,
   "metadata": {
    "id": "yTtyV_mVIhuj",
    "ExecuteTime": {
     "end_time": "2023-07-14T18:05:18.634470Z",
     "start_time": "2023-07-14T18:05:18.628816Z"
    }
   },
   "outputs": [],
   "source": [
    "batch_size = 256\n",
    "\n",
    "train_dataset = torch.utils.data.TensorDataset(X_train_tensor, y_train_tensor)\n",
    "train_loader = torch.utils.data.DataLoader(dataset=train_dataset, batch_size=batch_size, shuffle=True)"
   ]
  },
  {
   "cell_type": "markdown",
   "metadata": {
    "id": "9ltyMFvsIhuj"
   },
   "source": [
    "Next, we train our NN and test its performance on the test set every 4000 iterations. We use 40,000 *epochs* and print our accuracy values every 4000 iterations. An epoch is when the entire dataset has passed through the network. An iteration is when a single forward/backward pass of the network over a batch of data is done.\n",
    "\n",
    "**YOUR TURN:**\n",
    "* If our batch size is 256 and we elect to do 40,000 epochs (i.e., the network sees the entire dataset 40,000 times), how many iterations (forward/backward passes of the data) will our network see? _______________________\n",
    "\n",
    "Run the below code and check out the incremental accuracy improvement output below."
   ]
  },
  {
   "cell_type": "code",
   "execution_count": 15,
   "metadata": {
    "id": "q2lxP28lIhuj",
    "ExecuteTime": {
     "end_time": "2023-07-14T18:10:33.857487Z",
     "start_time": "2023-07-14T18:08:18.683481Z"
    }
   },
   "outputs": [
    {
     "name": "stdout",
     "output_type": "stream",
     "text": [
      "Loss: 0.47 | Accuracy: 0.78 | Progress: 2.50% | Iteration: 4000\n",
      "Loss: 0.43 | Accuracy: 0.78 | Progress: 5.00% | Iteration: 8000\n",
      "Loss: 0.51 | Accuracy: 0.78 | Progress: 7.50% | Iteration: 12000\n",
      "Loss: 0.43 | Accuracy: 0.78 | Progress: 10.00% | Iteration: 16000\n",
      "Loss: 0.48 | Accuracy: 0.78 | Progress: 12.50% | Iteration: 20000\n",
      "Loss: 0.46 | Accuracy: 0.78 | Progress: 15.00% | Iteration: 24000\n",
      "Loss: 0.49 | Accuracy: 0.78 | Progress: 17.50% | Iteration: 28000\n",
      "Loss: 0.37 | Accuracy: 0.78 | Progress: 20.00% | Iteration: 32000\n",
      "Loss: 0.50 | Accuracy: 0.78 | Progress: 22.50% | Iteration: 36000\n",
      "Loss: 0.52 | Accuracy: 0.78 | Progress: 25.00% | Iteration: 40000\n",
      "Loss: 0.43 | Accuracy: 0.78 | Progress: 27.50% | Iteration: 44000\n",
      "Loss: 0.50 | Accuracy: 0.78 | Progress: 30.00% | Iteration: 48000\n",
      "Loss: 0.43 | Accuracy: 0.79 | Progress: 32.50% | Iteration: 52000\n",
      "Loss: 0.50 | Accuracy: 0.78 | Progress: 35.00% | Iteration: 56000\n",
      "Loss: 0.48 | Accuracy: 0.78 | Progress: 37.50% | Iteration: 60000\n",
      "Loss: 0.55 | Accuracy: 0.78 | Progress: 40.00% | Iteration: 64000\n",
      "Loss: 0.47 | Accuracy: 0.78 | Progress: 42.50% | Iteration: 68000\n",
      "Loss: 0.45 | Accuracy: 0.78 | Progress: 45.00% | Iteration: 72000\n",
      "Loss: 0.42 | Accuracy: 0.79 | Progress: 47.50% | Iteration: 76000\n",
      "Loss: 0.51 | Accuracy: 0.79 | Progress: 50.00% | Iteration: 80000\n",
      "Loss: 0.47 | Accuracy: 0.79 | Progress: 52.50% | Iteration: 84000\n"
     ]
    },
    {
     "ename": "KeyboardInterrupt",
     "evalue": "",
     "output_type": "error",
     "traceback": [
      "\u001B[0;31m---------------------------------------------------------------------------\u001B[0m",
      "\u001B[0;31mKeyboardInterrupt\u001B[0m                         Traceback (most recent call last)",
      "Cell \u001B[0;32mIn[15], line 15\u001B[0m\n\u001B[1;32m     12\u001B[0m writer \u001B[38;5;241m=\u001B[39m SummaryWriter()\n\u001B[1;32m     14\u001B[0m \u001B[38;5;28;01mfor\u001B[39;00m epoch \u001B[38;5;129;01min\u001B[39;00m \u001B[38;5;28mrange\u001B[39m(epochs):\n\u001B[0;32m---> 15\u001B[0m     \u001B[38;5;28;01mfor\u001B[39;00m batch_idx, (features, target) \u001B[38;5;129;01min\u001B[39;00m \u001B[38;5;28menumerate\u001B[39m(train_loader):\n\u001B[1;32m     16\u001B[0m         optimizer\u001B[38;5;241m.\u001B[39mzero_grad()\n\u001B[1;32m     17\u001B[0m         outputs \u001B[38;5;241m=\u001B[39m model(features)\n",
      "File \u001B[0;32m~/miniconda3/envs/pytorch/lib/python3.11/site-packages/torch/utils/data/dataloader.py:629\u001B[0m, in \u001B[0;36m_BaseDataLoaderIter.__next__\u001B[0;34m(self)\u001B[0m\n\u001B[1;32m    628\u001B[0m \u001B[38;5;28;01mdef\u001B[39;00m \u001B[38;5;21m__next__\u001B[39m(\u001B[38;5;28mself\u001B[39m) \u001B[38;5;241m-\u001B[39m\u001B[38;5;241m>\u001B[39m Any:\n\u001B[0;32m--> 629\u001B[0m \u001B[43m    \u001B[49m\u001B[38;5;28;43;01mwith\u001B[39;49;00m\u001B[43m \u001B[49m\u001B[43mtorch\u001B[49m\u001B[38;5;241;43m.\u001B[39;49m\u001B[43mautograd\u001B[49m\u001B[38;5;241;43m.\u001B[39;49m\u001B[43mprofiler\u001B[49m\u001B[38;5;241;43m.\u001B[39;49m\u001B[43mrecord_function\u001B[49m\u001B[43m(\u001B[49m\u001B[38;5;28;43mself\u001B[39;49m\u001B[38;5;241;43m.\u001B[39;49m\u001B[43m_profile_name\u001B[49m\u001B[43m)\u001B[49m\u001B[43m:\u001B[49m\n\u001B[1;32m    630\u001B[0m \u001B[43m        \u001B[49m\u001B[38;5;28;43;01mif\u001B[39;49;00m\u001B[43m \u001B[49m\u001B[38;5;28;43mself\u001B[39;49m\u001B[38;5;241;43m.\u001B[39;49m\u001B[43m_sampler_iter\u001B[49m\u001B[43m \u001B[49m\u001B[38;5;129;43;01mis\u001B[39;49;00m\u001B[43m \u001B[49m\u001B[38;5;28;43;01mNone\u001B[39;49;00m\u001B[43m:\u001B[49m\n\u001B[1;32m    631\u001B[0m \u001B[43m            \u001B[49m\u001B[38;5;66;43;03m# TODO(https://github.com/pytorch/pytorch/issues/76750)\u001B[39;49;00m\n\u001B[1;32m    632\u001B[0m \u001B[43m            \u001B[49m\u001B[38;5;28;43mself\u001B[39;49m\u001B[38;5;241;43m.\u001B[39;49m\u001B[43m_reset\u001B[49m\u001B[43m(\u001B[49m\u001B[43m)\u001B[49m\u001B[43m  \u001B[49m\u001B[38;5;66;43;03m# type: ignore[call-arg]\u001B[39;49;00m\n",
      "File \u001B[0;32m~/miniconda3/envs/pytorch/lib/python3.11/site-packages/torch/autograd/profiler.py:495\u001B[0m, in \u001B[0;36mrecord_function.__exit__\u001B[0;34m(self, exc_type, exc_value, traceback)\u001B[0m\n\u001B[1;32m    492\u001B[0m     \u001B[38;5;28mself\u001B[39m\u001B[38;5;241m.\u001B[39mrecord \u001B[38;5;241m=\u001B[39m torch\u001B[38;5;241m.\u001B[39mops\u001B[38;5;241m.\u001B[39mprofiler\u001B[38;5;241m.\u001B[39m_record_function_enter_new(\u001B[38;5;28mself\u001B[39m\u001B[38;5;241m.\u001B[39mname, \u001B[38;5;28mself\u001B[39m\u001B[38;5;241m.\u001B[39margs)\n\u001B[1;32m    493\u001B[0m     \u001B[38;5;28;01mreturn\u001B[39;00m \u001B[38;5;28mself\u001B[39m\n\u001B[0;32m--> 495\u001B[0m \u001B[38;5;28;01mdef\u001B[39;00m \u001B[38;5;21m__exit__\u001B[39m(\u001B[38;5;28mself\u001B[39m, exc_type: Any, exc_value: Any, traceback: Any):\n\u001B[1;32m    496\u001B[0m     \u001B[38;5;28;01mif\u001B[39;00m \u001B[38;5;129;01mnot\u001B[39;00m \u001B[38;5;28mself\u001B[39m\u001B[38;5;241m.\u001B[39mrun_callbacks_on_exit:\n\u001B[1;32m    497\u001B[0m         \u001B[38;5;28;01mreturn\u001B[39;00m\n",
      "\u001B[0;31mKeyboardInterrupt\u001B[0m: "
     ]
    }
   ],
   "source": [
    "import random\n",
    "from torch.utils.tensorboard import SummaryWriter\n",
    "\n",
    "random.seed(1)\n",
    "torch.manual_seed(1)\n",
    "torch.backends.cudnn.deterministic = True\n",
    "\n",
    "iterations = 0\n",
    "epochs = 40000\n",
    "\n",
    "# Create a SummaryWriter to write TensorBoard logs\n",
    "writer = SummaryWriter()\n",
    "\n",
    "for epoch in range(epochs):\n",
    "    for batch_idx, (features, target) in enumerate(train_loader):\n",
    "        optimizer.zero_grad()\n",
    "        outputs = model(features)\n",
    "        loss = criterion(torch.squeeze(outputs), target)\n",
    "        loss.backward()\n",
    "        optimizer.step()\n",
    "\n",
    "        iterations += 1\n",
    "        if iterations % 4000 == 0:\n",
    "            model.eval()\n",
    "            with torch.no_grad():\n",
    "                outputs = model(X_test_tensor)\n",
    "                predicted = torch.round(outputs.data).numpy()\n",
    "            model.train()\n",
    "\n",
    "            accuracy = accuracy_score(y_test, predicted)\n",
    "            progress = epoch / epochs * 100\n",
    "\n",
    "            # Write loss and accuracy to TensorBoard\n",
    "            writer.add_scalar(\"Loss\", loss.item(), iterations)\n",
    "            writer.add_scalar(\"Accuracy\", accuracy, iterations)\n",
    "\n",
    "            print(f\"Loss: {loss.item():.2f} | Accuracy: {accuracy:.2f} | Progress: {progress:.2f}% | Iteration: {iterations}\")\n",
    "\n",
    "# Close the SummaryWriter\n",
    "writer.close()"
   ]
  },
  {
   "cell_type": "code",
   "execution_count": 16,
   "outputs": [],
   "source": [
    "# Load the TensorBoard notebook extension\n",
    "%load_ext tensorboard"
   ],
   "metadata": {
    "collapsed": false,
    "ExecuteTime": {
     "end_time": "2023-07-14T18:10:35.387530Z",
     "start_time": "2023-07-14T18:10:35.377841Z"
    }
   }
  },
  {
   "cell_type": "markdown",
   "metadata": {
    "id": "YuXmjwuMIhuk"
   },
   "source": [
    "Hopefully you got an accuracy of around ~78%. What you'll notice is that is similar accuracy we got from sklearn's built-in logistic regression function from earlier in the lab. There are differences in the implementation that account for this discrepancy, notably sklearn used l2 regularization, and an optimizer called LBFGS instead of SGD that we learned and used.\n",
    "\n",
    "Let's take a look at the trained model parameters using the `model.parameters()` function within PyTorch."
   ]
  },
  {
   "cell_type": "code",
   "execution_count": 17,
   "metadata": {
    "id": "535umxhZIhuk",
    "ExecuteTime": {
     "end_time": "2023-07-14T18:10:37.896360Z",
     "start_time": "2023-07-14T18:10:37.889833Z"
    }
   },
   "outputs": [
    {
     "data": {
      "text/plain": "[Parameter containing:\n tensor([[-0.4100, -2.3163, -0.0100, -0.3420, -0.0245,  0.0062]],\n        requires_grad=True),\n Parameter containing:\n tensor([1.9463], requires_grad=True)]"
     },
     "execution_count": 17,
     "metadata": {},
     "output_type": "execute_result"
    }
   ],
   "source": [
    "params = list(model.parameters())\n",
    "params"
   ]
  },
  {
   "cell_type": "markdown",
   "metadata": {
    "id": "gkfrWNPGIhuk"
   },
   "source": [
    "Hm, well this is interesting! We can see that our model consists of two tensors: the first has (1,6), and the second has dimension (1). Refer back to how you drew what you thought this NN architecture would look like.\n",
    "\n",
    "**YOU TURN:**\n",
    "* What do you think these values represent? ____________________________\n",
    "* How many hidden layers does the architecture have? ______________________________\n",
    "* Draw the architecture and label (some of) the weights (trained parameters). ______________________________\n",
    "\n",
    "(*Hint: to answer these questions, try printing `outputs.data[0]` and `predicted[0]` to look at the model's assessment of the first sample*)"
   ]
  },
  {
   "cell_type": "markdown",
   "metadata": {
    "id": "YeZvj7ekIhul"
   },
   "source": [
    "You'll notice that this took considerably longer to train than scikit-learn's logistic regression: this is because PyTorch is set-up to be more flexible and train architectures much more complex than a simple single neuron network. Scikit-learn's implementation of logistic regression is highly optimized.\n",
    "\n",
    "**YOUR TURN:**\n",
    "* How many epochs would you need to increase the process to 200,000 iterations? ______________________\n",
    "* Does increasing to 200,000 iterations improve your test set accuracy? ______________________\n",
    "* Compare the predictions of your logistic regression from scikit-learn and your network developed with PyTorch. Are all the predictions the same? How many predictions are pair-wise different? ______________________\n",
    "\n",
    "* Create a simple three layer fully connected neural network with a single hidden layer of 4 neurons followed by Relu activation, and learning rate of 0.01. What is the final accuracy of this network? ______________________\n",
    "<br>(Hint: If you are using **BCELoss** as loss criterion, you need to use a **sigmoid** activation function for the output layer. If you are using **CrossEntropyLoss** as loss criterion, you need to use a **softmax** activation function for the output layer. While BCELoss is used for binary classification, CrossEntropyLoss is used for multi-class classification.)"
   ]
  },
  {
   "cell_type": "markdown",
   "metadata": {
    "id": "UEscia6QIhul"
   },
   "source": [
    "Congratulations! You've completed an introduction to neural networks and PyTorch. If you want to explore more sophisicated architectures and applications, check out designing a PyTorch neural network to properly classify digit images here:\n",
    "\n",
    "https://towardsdatascience.com/handwritten-digit-mnist-pytorch-977b5338e627\n",
    "\n",
    "Other than that, you're done the lab!"
   ]
  },
  {
   "cell_type": "code",
   "execution_count": null,
   "outputs": [],
   "source": [],
   "metadata": {
    "collapsed": false
   }
  }
 ],
 "metadata": {
  "kernelspec": {
   "display_name": "Python 3",
   "language": "python",
   "name": "python3"
  },
  "language_info": {
   "codemirror_mode": {
    "name": "ipython",
    "version": 3
   },
   "file_extension": ".py",
   "mimetype": "text/x-python",
   "name": "python",
   "nbconvert_exporter": "python",
   "pygments_lexer": "ipython3",
   "version": "3.5.2"
  },
  "colab": {
   "provenance": []
  },
  "gpuClass": "standard"
 },
 "nbformat": 4,
 "nbformat_minor": 0
}
