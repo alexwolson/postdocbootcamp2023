{
 "nbformat": 4,
 "nbformat_minor": 0,
 "metadata": {
  "colab": {
   "provenance": []
  },
  "kernelspec": {
   "name": "python3",
   "display_name": "Python 3"
  },
  "language_info": {
   "name": "python"
  }
 },
 "cells": [
  {
   "cell_type": "markdown",
   "source": [
    "[![Open In Colab](https://colab.research.google.com/assets/colab-badge.svg)](https://colab.research.google.com/github/alexwolson/postdocbootcamp2023/blob/main/lab_3_1_auto_sklearn.ipynb)\n",
    "\n",
    "# UofT DSI-CARTE Postdoc Bootcamp\n",
    "#### Tuesday July 20, 2023\n",
    "#### Intro to Auto-sklearn of AutoML- Lab 1, Day 3\n",
    "#### Teaching team: Alex Olson, Nakul Upadhya, Shehnaz Islam\n",
    "##### Lab author: Shehnaz Islam, shehnaz.islam@mail.utoronto.ca, edited by Alex Olson"
   ],
   "metadata": {
    "id": "0qhfhPUwbesk"
   }
  },
  {
   "cell_type": "markdown",
   "source": [
    "### Introduction\n",
    "**Automated machine learning (AutoML)** is a fairly young field with the goal to build an automated workflow that could take raw data as input, and produce a prediction automatically. This automated workflow should automatically do preprocessing, model selection, hyperparameter tuning, and all other stages of the ML process.\n",
    "\n",
    "There are different types of AutoML frameworks, each having unique features automating a few steps of a full machine learning workflow, from pre-processing to model development. In this lab we discuss one such framework called **Auto-sklearn**.\n",
    "\n",
    "### Auto-sklearn\n",
    "**Auto-sklearn** is a state of the art, and open-source AutoML framework on top of scikit-Learn. The task of Auto-sklearn is to find the best ML model and its hyperparameter for a dataset among a vast search space, including plenty of classifiers and a lot of hyperparameters. Thus, Auto-sklearn frees a machine learning user from algorithm selection and hyperparameter tuning by leveraging recent advantages in Bayesian optimization, meta-learning and ensemble construction.\n",
    "\n",
    "### Why AutoML?\n",
    "AutoML can be useful as it has the ability to improve the quality of work for data scientists, not remove data scientists from the cycle.\n",
    "Experts could use AutoML to increase their job performance by focusing on the best-performing pipelines, and non-experts could use AutoML systems without a broad ML education."
   ],
   "metadata": {
    "id": "bpPqT2f3r_15"
   }
  },
  {
   "cell_type": "markdown",
   "source": [
    "## Auto-sklearn for Classfication\n",
    "\n",
    "Now lets see how to implement Auto-sklearn framework of AutoML for a breast cancer binary classfication task with 30 features and 569 samples belonging to either 'malignant' or 'benign' class."
   ],
   "metadata": {
    "id": "J51VHKlyGEHh"
   }
  },
  {
   "cell_type": "code",
   "execution_count": null,
   "metadata": {
    "colab": {
     "base_uri": "https://localhost:8080/"
    },
    "id": "QjLmpUWp-Myh",
    "outputId": "72c00e9e-d9a4-4e12-b28b-a361a4813b51"
   },
   "outputs": [],
   "source": [
    "# Install auto-sklearn\n",
    "!pip3 install auto-sklearn"
   ]
  },
  {
   "cell_type": "code",
   "source": [
    "# Import autosklearn and check version\n",
    "import autosklearn\n",
    "print(autosklearn.__version__)\n",
    "# 0.15.0"
   ],
   "metadata": {
    "colab": {
     "base_uri": "https://localhost:8080/"
    },
    "id": "w9keWhANHHto",
    "outputId": "9208f5f7-fb62-4413-eed9-c738ac87232b"
   },
   "execution_count": null,
   "outputs": []
  },
  {
   "cell_type": "code",
   "source": [
    "# Make necessary imports\n",
    "import autosklearn.classification\n",
    "\n",
    "import pandas as pd\n",
    "import numpy as np\n",
    "from sklearn.model_selection import train_test_split\n",
    "from sklearn.metrics import roc_auc_score,accuracy_score,classification_report"
   ],
   "metadata": {
    "id": "oeTZ6Prf-SUd"
   },
   "execution_count": null,
   "outputs": []
  },
  {
   "cell_type": "markdown",
   "source": [
    "### Data Loading"
   ],
   "metadata": {
    "id": "m9EXiln4IB3j"
   }
  },
  {
   "cell_type": "code",
   "source": [
    "# Load breast cancer dataset\n",
    "import sklearn.datasets\n",
    "import sklearn.metrics\n",
    "\n",
    "X, y = sklearn.datasets.load_breast_cancer(return_X_y=True)\n",
    "\n",
    "# Split dataset\n",
    "X_train, X_test, y_train, y_test = sklearn.model_selection.train_test_split(X, y, random_state=1)"
   ],
   "metadata": {
    "id": "t0KuoGG8GFii"
   },
   "execution_count": null,
   "outputs": []
  },
  {
   "cell_type": "code",
   "source": [
    "print(X.shape)\n",
    "print(y.shape)"
   ],
   "metadata": {
    "colab": {
     "base_uri": "https://localhost:8080/"
    },
    "id": "h2EXX5iGGdp9",
    "outputId": "3ee47a5a-a352-488f-b11e-c06c726235ea"
   },
   "execution_count": null,
   "outputs": []
  },
  {
   "cell_type": "code",
   "source": [
    "# View dataset as dataframe\n",
    "X_df = pd.DataFrame(X)\n",
    "X_df.head()"
   ],
   "metadata": {
    "colab": {
     "base_uri": "https://localhost:8080/",
     "height": 300
    },
    "id": "OGObdVSFGjR5",
    "outputId": "2551e819-4d9b-422b-fd43-e8d104954302"
   },
   "execution_count": null,
   "outputs": []
  },
  {
   "cell_type": "code",
   "source": [
    "y_df = pd.DataFrame(y)\n",
    "y_df.head()"
   ],
   "metadata": {
    "colab": {
     "base_uri": "https://localhost:8080/",
     "height": 206
    },
    "id": "5eNYRnZeNN5Q",
    "outputId": "c37c41ed-2677-41b0-baa6-a1b68e9f0aed"
   },
   "execution_count": null,
   "outputs": []
  },
  {
   "cell_type": "markdown",
   "source": [
    "### Define and fit auto-sklearn classifier\n",
    "\n",
    "**Auto-sklearn parameters**: Although Auto-sklearn might be able to find an outperforming pipeline without setting any parameters, there are some parameters that you can use to boost your productivity. To check all parameters visit the [official page](https://automl.github.io/auto-sklearn/master/api.html).\n",
    "\n",
    "\n",
    "> **time_left_for_this_task: int, optional (default=3600):** Time limit in seconds for the search of appropriate models. By increasing this value, auto-sklearn has a higher chance of finding better models.\n",
    "\n",
    "> **per_run_time_limit: int, optional (default=1/10 of time_left_for_this_task):**\n",
    "Time limit for a single call to the machine learning model. Model fitting will be terminated if the machine learning algorithm runs over the time limit. Set this value high enough so that typical machine learning algorithms can be fit on the training data.\n",
    "\n",
    "> **tmp_folder: string, optional (None)**:\n",
    "Folder to store configuration output and log files, if None automatically use\n"
   ],
   "metadata": {
    "id": "BB3jgtiLIH2T"
   }
  },
  {
   "cell_type": "code",
   "source": [
    "# Define the model # 2 mins\n",
    "automl = autosklearn.classification.AutoSklearnClassifier(\n",
    "    time_left_for_this_task=120, # Set max runtime\n",
    "    per_run_time_limit=30, # Set max runtime per model\n",
    "    tmp_folder=\"/tmp/autosklearn_classification_example_tmp\",\n",
    ")\n",
    "\n",
    "# Train the model\n",
    "automl.fit(X_train, y_train, dataset_name=\"breast_cancer\")"
   ],
   "metadata": {
    "colab": {
     "base_uri": "https://localhost:8080/"
    },
    "id": "FxvgCD6wII8h",
    "outputId": "fa1cd18c-12de-4cee-903f-28284982d70f"
   },
   "execution_count": null,
   "outputs": []
  },
  {
   "cell_type": "markdown",
   "source": [
    "## View Training Statistics\n",
    "To get infomartion about traning statistics use **automl.sprint_statistics()**"
   ],
   "metadata": {
    "id": "pH66_joSltZK"
   }
  },
  {
   "cell_type": "code",
   "source": [
    "sprint_statistics_str = automl.sprint_statistics()\n",
    "sprint_statistics_str"
   ],
   "metadata": {
    "colab": {
     "base_uri": "https://localhost:8080/",
     "height": 105
    },
    "id": "-CFw3FMBbrNN",
    "outputId": "f1696979-2295-4cf8-8dba-47b7cc326568"
   },
   "execution_count": null,
   "outputs": []
  },
  {
   "cell_type": "markdown",
   "source": [
    "## View the models found by auto-sklearn"
   ],
   "metadata": {
    "id": "TQKEmerYK6yL"
   }
  },
  {
   "cell_type": "markdown",
   "source": [
    "The function **automl.leaderboard()** gives an overview of all models trained during the search process along with various statistics about their training."
   ],
   "metadata": {
    "id": "WgTxJe1DRX6f"
   }
  },
  {
   "cell_type": "code",
   "source": [
    "print(automl.leaderboard())"
   ],
   "metadata": {
    "colab": {
     "base_uri": "https://localhost:8080/"
    },
    "id": "4vgfPjTpK_op",
    "outputId": "fdac9173-d557-4db5-f10e-069087aacf46"
   },
   "execution_count": null,
   "outputs": []
  },
  {
   "cell_type": "markdown",
   "source": [
    "The \"extra-tress\" classfier was ranked highest with a cost of 0.014."
   ],
   "metadata": {
    "id": "7ILcD0SFR4FO"
   }
  },
  {
   "cell_type": "markdown",
   "source": [
    "Print the final ensemble constructed by auto-sklearn using **automl.show_models()** function"
   ],
   "metadata": {
    "id": "lAb4yk-EcivW"
   }
  },
  {
   "cell_type": "code",
   "source": [
    "# show all models\n",
    "show_modes_str=automl.show_models()\n",
    "show_modes_str"
   ],
   "metadata": {
    "colab": {
     "base_uri": "https://localhost:8080/"
    },
    "id": "Gx4kQ_coNG6A",
    "outputId": "3b4bd871-0b69-4d43-faeb-568fb96f27fe"
   },
   "execution_count": null,
   "outputs": []
  },
  {
   "cell_type": "markdown",
   "source": [
    "## Get the score of the final ensemble"
   ],
   "metadata": {
    "id": "TpnKcDRzRFoK"
   }
  },
  {
   "cell_type": "code",
   "source": [
    "predictions = automl.predict(X_test) # predict on test set\n",
    "\n",
    "# Accuracy\n",
    "print(\"Accuracy score:\", sklearn.metrics.accuracy_score(y_test, predictions))\n",
    "\n",
    "# AUROC score\n",
    "y_pred_proba= automl.predict_proba(X_test) # Get prediction probabilities\n",
    "roc_score= roc_auc_score(y_test, y_pred_proba[:,1])\n",
    "print(\"AUROC score: \", roc_score)"
   ],
   "metadata": {
    "colab": {
     "base_uri": "https://localhost:8080/"
    },
    "id": "dw314FS4S5pM",
    "outputId": "b0e85e7c-2975-43d8-d560-d4d9508a9438"
   },
   "execution_count": null,
   "outputs": []
  },
  {
   "cell_type": "markdown",
   "source": [
    "## Visualize best outperforming pipelines\n",
    "When you fit the auto-sklearn model, you can check all the best outperforming pipelines with PipelineProfiler. To do that, you need to run the following code:"
   ],
   "metadata": {
    "id": "pKQHyj7rFSSj"
   }
  },
  {
   "cell_type": "code",
   "source": [
    "!pip install pipelineprofiler"
   ],
   "metadata": {
    "colab": {
     "base_uri": "https://localhost:8080/"
    },
    "id": "wXdF5TcYTPnU",
    "outputId": "ba764b4f-6a5f-443d-ec8d-fc0a7de831c3"
   },
   "execution_count": null,
   "outputs": []
  },
  {
   "cell_type": "code",
   "source": [
    "import PipelineProfiler\n",
    "# automl is an object Which has already been created.\n",
    "profiler_data= PipelineProfiler.import_autosklearn(automl)\n",
    "PipelineProfiler.plot_pipeline_matrix(profiler_data)"
   ],
   "metadata": {
    "colab": {
     "base_uri": "https://localhost:8080/",
     "height": 945
    },
    "id": "eLXxDsKQFbBD",
    "outputId": "4a554613-3331-4252-88bd-e7889e24e750"
   },
   "execution_count": null,
   "outputs": []
  },
  {
   "cell_type": "markdown",
   "source": [
    "## Final thought\n",
    "Overall, auto-sklearn is still a new technology. Because auto-sklearn is built on top of scikit-learn, many ML practitioners can quickly try it and see how it works.\n",
    "\n",
    "The most important advantage of this framework is that it saves a lot of time for experts. The one weakness is that it acts as a black box, and doesn’t say anything about how to make a decision.\n",
    "\n",
    "All in all, it’s a pretty interesting tool, so it’s worth giving auto-sklearn a look."
   ],
   "metadata": {
    "id": "pDentANdGJ8m"
   }
  }
 ]
}
